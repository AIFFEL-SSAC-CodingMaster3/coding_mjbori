{
 "cells": [
  {
   "cell_type": "markdown",
   "metadata": {},
   "source": [
    "### Q. Given a string s, remove duplicate letters so that every letter appears once and only once. You must make sure your result is the smallest in lexicographical order among all possible results.\n",
    "\n",
    "Note: This question is the same as 1081: https://leetcode.com/problems/smallest-subsequence-of-distinct-characters/\n",
    "\n",
    " \n",
    "\n",
    "* Example 1:\n",
    "\n",
    "Input: s = \"bcabc\"            \n",
    "Output: \"abc\"\n",
    "\n",
    "* Example 2:\n",
    "\n",
    "Input: s = \"cbacdcbc\"          \n",
    "Output: \"acdb\""
   ]
  },
  {
   "cell_type": "markdown",
   "metadata": {},
   "source": [
    "---\n",
    "\n",
    "### * 사전식 순서: 특정 문자열이 주어질 때, 주어진 문자들의 조합을 통해 만들어질 수 있는 수 많은 문자열들 중 사전 순서상 다음에 위치할 문자열을 찾아서 반환해야한다.\n",
    "\n",
    "### * \"주어진 단어의 순서를 바꾸지 않고\" \"중복된 문자를 제거\"하여 사전 순으로 가장 빠른 단어를 만드는 것이 목표\n",
    "\n",
    "---"
   ]
  },
  {
   "cell_type": "markdown",
   "metadata": {},
   "source": [
    "# (1) 재귀를 이용한 분리 - 52ms"
   ]
  },
  {
   "cell_type": "code",
   "execution_count": 1,
   "metadata": {},
   "outputs": [],
   "source": [
    "class Solution:\n",
    "    def removeDuplicateLetters(self,s):\n",
    "        for A in sorted(set(s)):     # 집합으로 정렬\n",
    "            suffix = s[s.index(A):]\n",
    "        \n",
    "            if set(s) == set(suffix):   # 전체 집합과 suffix 집합이 일치할 때 분리\n",
    "                return A + self.removeDuplicateLetters(suffix.replace(A,''))\n",
    "        return ''"
   ]
  },
  {
   "cell_type": "code",
   "execution_count": 2,
   "metadata": {},
   "outputs": [
    {
     "data": {
      "text/plain": [
       "'abc'"
      ]
     },
     "execution_count": 2,
     "metadata": {},
     "output_type": "execute_result"
    }
   ],
   "source": [
    "X = \"bcabc\"\n",
    "\n",
    "C = Solution()\n",
    "C.removeDuplicateLetters(X)"
   ]
  },
  {
   "cell_type": "markdown",
   "metadata": {},
   "source": [
    "# (2) 스택을 이용한 문자제거 - 32ms\n",
    "\n",
    "\n",
    "* `collections.Counter()` : 컨테이너에 동일한 값의 자료가 몇개인지를 파악하는데 사용하는 객체\n",
    "\n",
    "출처: https://excelsior-cjh.tistory.com/94 [EXCELSIOR]"
   ]
  },
  {
   "cell_type": "code",
   "execution_count": 3,
   "metadata": {},
   "outputs": [],
   "source": [
    "import collections\n",
    "\n",
    "class Solution:\n",
    "    def removeDuplicateLetters(self,s):\n",
    "        counter, seen, stack =  collections.Counter(s), set(), []      # seen은 집합 자료형\n",
    "        \n",
    "        for A in s:\n",
    "            counter[A] -= 1\n",
    "            if A in seen:  \n",
    "                continue\n",
    "                \n",
    "            while stack and A < stack[-1] and counter[stack[-1]] > 0:\n",
    "                seen.remove(stack.pop())    # 뒤에 붙일 문자가 남아있다면 스택에서 제거\n",
    "            stack.append(A)\n",
    "            seen.add(A)\n",
    "            \n",
    "        return ''.join(stack)"
   ]
  },
  {
   "cell_type": "code",
   "execution_count": 4,
   "metadata": {},
   "outputs": [
    {
     "data": {
      "text/plain": [
       "'acdb'"
      ]
     },
     "execution_count": 4,
     "metadata": {},
     "output_type": "execute_result"
    }
   ],
   "source": [
    "Y = \"cbacdcbc\"\n",
    "\n",
    "C = Solution()\n",
    "C.removeDuplicateLetters(Y)"
   ]
  },
  {
   "cell_type": "markdown",
   "metadata": {},
   "source": [
    "# * 20m/s"
   ]
  },
  {
   "cell_type": "code",
   "execution_count": 5,
   "metadata": {},
   "outputs": [],
   "source": [
    "class Solution:\n",
    "    def removeDuplicateLetters(self, s: str) -> str:\n",
    "        stack = []\n",
    "        lastdic = {c:idx for idx, c in enumerate(s)}\n",
    "        seen = set()\n",
    "        for i in range(len(s)):\n",
    "            if s[i] not in seen:\n",
    "                while stack and stack[-1] > s[i] and i < lastdic[stack[-1]]:\n",
    "                    seen.remove(stack.pop())\n",
    "                seen.add(s[i])\n",
    "                stack.append(s[i])\n",
    "        return ''.join(stack)"
   ]
  },
  {
   "cell_type": "markdown",
   "metadata": {},
   "source": [
    "# * 13900kb"
   ]
  },
  {
   "cell_type": "code",
   "execution_count": 6,
   "metadata": {},
   "outputs": [],
   "source": [
    "class Solution:\n",
    "    def removeDuplicateLetters(self, s: str) -> str:\n",
    "        \n",
    "        # count numbers of letters\n",
    "        count = [0] * 26\n",
    "        for char in s:\n",
    "            count[ord(char) - ord('a')] += 1\n",
    "        \n",
    "        \n",
    "        # remove duplicated characthers\n",
    "        # idea: stack and memorization (set)\n",
    "        stack = []\n",
    "        v = set()\n",
    "        N = len(s)\n",
    "        \n",
    "        for idx in range(N):\n",
    "            count[ord(s[idx]) - ord('a')] -= 1\n",
    "            \n",
    "            if s[idx] not in v:\n",
    "                # remove duplicates\n",
    "                while stack and stack[-1] > s[idx] and count[ord(stack[-1]) - ord('a')]:\n",
    "                    v.remove(stack[-1])\n",
    "                    stack.pop()\n",
    "                v.add(s[idx])\n",
    "                stack += [s[idx]]\n",
    "        \n",
    "        return ''.join(stack)"
   ]
  },
  {
   "cell_type": "code",
   "execution_count": null,
   "metadata": {},
   "outputs": [],
   "source": []
  },
  {
   "cell_type": "code",
   "execution_count": null,
   "metadata": {},
   "outputs": [],
   "source": []
  }
 ],
 "metadata": {
  "kernelspec": {
   "display_name": "Python 3",
   "language": "python",
   "name": "python3"
  },
  "language_info": {
   "codemirror_mode": {
    "name": "ipython",
    "version": 3
   },
   "file_extension": ".py",
   "mimetype": "text/x-python",
   "name": "python",
   "nbconvert_exporter": "python",
   "pygments_lexer": "ipython3",
   "version": "3.7.3"
  }
 },
 "nbformat": 4,
 "nbformat_minor": 2
}
