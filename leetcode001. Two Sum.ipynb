{
 "cells": [
  {
   "cell_type": "markdown",
   "metadata": {},
   "source": [
    "# leetcode001. \n",
    "\n",
    "### Q. Given an array of integers nums and an integer target, return indices of the two numbers such that they add up to target.\n",
    "\n",
    "You may assume that each input would have exactly one solution, and you may not use the same element twice.\n",
    "\n",
    "You can return the answer in any order.\n",
    "\n",
    "---\n",
    "\n",
    "#### Example 1:\n",
    "\n",
    "    Input: nums = [2,7,11,15], target = 9\n",
    "    Output: [0,1]\n",
    "    Output: Because nums[0] + nums[1] == 9, we return [0, 1].\n",
    "\n",
    "---\n",
    "\n",
    "#### Example 2:\n",
    "\n",
    "    Input: nums = [3,2,4], target = 6\n",
    "    Output: [1,2]\n",
    "\n",
    "---\n",
    "\n",
    "#### Example 3:\n",
    "\n",
    "    Input: nums = [3,3], target = 6\n",
    "    Output: [0,1]\n",
    " \n",
    "---\n",
    "\n",
    "    Constraints:\n",
    "\n",
    "   * 2 <= nums.length <= 103\n",
    "   * -109 <= nums[i] <= 109\n",
    "   * -109 <= target <= 109\n",
    "   * Only one valid answer exists.\n",
    "\n"
   ]
  },
  {
   "cell_type": "markdown",
   "metadata": {},
   "source": [
    "## [ 1차 시도 ] \n",
    "\n",
    ": 실패 => input=[3,3], target=6일 때, 정답인 [0,1]과는 달리 나의 코드로는 [1,1]이 나옴."
   ]
  },
  {
   "cell_type": "code",
   "execution_count": 25,
   "metadata": {},
   "outputs": [
    {
     "name": "stdout",
     "output_type": "stream",
     "text": [
      "6\n",
      "6\n",
      "[2, 1]\n"
     ]
    }
   ],
   "source": [
    "def twoSum(nums, target):\n",
    "    for i in range(len(nums)):\n",
    "        for j in range(1,len(nums)):\n",
    "            if nums[i]+nums[j] == target:\n",
    "                ind=[]\n",
    "                ind.append(i)\n",
    "                ind.append(j)\n",
    "                print(nums[i]+nums[j])\n",
    "    return ind\n",
    "\n",
    "nums = [3,2,4]\n",
    "target = 6\n",
    "print(twoSum(nums, target))"
   ]
  },
  {
   "cell_type": "markdown",
   "metadata": {},
   "source": [
    "## [ 2차 시도 ] \n",
    "\n",
    ": 실패 => 딕셔너리 형태가 필요 없음"
   ]
  },
  {
   "cell_type": "code",
   "execution_count": null,
   "metadata": {},
   "outputs": [],
   "source": [
    "def twoSum(nums, target):\n",
    "    for i, num1 in enumerate(nums):\n",
    "        for j, num2 in enumerate(nums):\n",
    "            if num[i] == target - num[j]:\n",
    "                return [i,j]"
   ]
  },
  {
   "cell_type": "markdown",
   "metadata": {},
   "source": [
    "# 13900 KB submission"
   ]
  },
  {
   "cell_type": "code",
   "execution_count": null,
   "metadata": {},
   "outputs": [],
   "source": [
    "class Solution:\n",
    "    def twoSum(self, nums: List[int], target: int) -> List[int]:\n",
    "        for i, num in enumerate(nums):\n",
    "            for j, num in enumerate(nums):\n",
    "                if(i == j):\n",
    "                    continue\n",
    "                if(nums[i] + nums[j] == target):\n",
    "                    answer = [i, j]\n",
    "                    return answer"
   ]
  },
  {
   "cell_type": "markdown",
   "metadata": {},
   "source": [
    "# 🌟 14100 KB, 40ms submission "
   ]
  },
  {
   "cell_type": "code",
   "execution_count": null,
   "metadata": {},
   "outputs": [],
   "source": [
    "class Solution:\n",
    "    def twoSum(self, nums: List[int], target: int) -> List[int]:\n",
    "        for i in range(len(nums)):\n",
    "            for j in range(i+1, len(nums)):\n",
    "                if(nums[j] == target-nums[i]):\n",
    "                    return [i,j]"
   ]
  },
  {
   "cell_type": "code",
   "execution_count": null,
   "metadata": {},
   "outputs": [],
   "source": []
  },
  {
   "cell_type": "markdown",
   "metadata": {},
   "source": [
    "# 24ms submission"
   ]
  },
  {
   "cell_type": "code",
   "execution_count": null,
   "metadata": {},
   "outputs": [],
   "source": [
    "def twoSum(nums, target):\n",
    "    val_to_index = {}\n",
    "        \n",
    "    for (i, val) in enumerate(nums):\n",
    "        num_to_find = target - val\n",
    "            \n",
    "        if num_to_find in val_to_index:\n",
    "            return [i, val_to_index[num_to_find]]\n",
    "            \n",
    "        val_to_index[val] = i\n",
    "        \n",
    "    return []"
   ]
  },
  {
   "cell_type": "markdown",
   "metadata": {},
   "source": [
    "# 32ms submission"
   ]
  },
  {
   "cell_type": "code",
   "execution_count": null,
   "metadata": {},
   "outputs": [],
   "source": [
    "def twoSum(self, nums: List[int], target: int) -> List[int]:\n",
    "        in_nums = {}\n",
    "        \n",
    "        for index, num in enumerate(nums):\n",
    "            if num not in in_nums:\n",
    "                in_nums[num] = [1, [index]]\n",
    "            else:\n",
    "                in_nums[num][0] += 1\n",
    "                in_nums[num][1].append(index)\n",
    "            diff = target - num\n",
    "            if diff in in_nums:\n",
    "                if diff != num or in_nums[num][0] > 1:\n",
    "                    return [index, in_nums[diff][1][0]]\n",
    "\n",
    "# TWO PASS SOLUTION\n",
    "#         in_nums = {}\n",
    "        \n",
    "#         # put the number of occurence for each element of nums in a dictionary\n",
    "#         for index, num in enumerate(nums):\n",
    "#             if num not in in_nums:\n",
    "#                 in_nums[num] = [1, index]\n",
    "#             else:\n",
    "#                 in_nums[num][0] += 1\n",
    "#                 in_nums[num][1] = index    # overwrite the index of the first occurence since we'll always have it if we need it, but not the second say in [3, 3] with target 6 - this isn't true in the one pass approach\n",
    "        \n",
    "#         for index, num in enumerate(nums):\n",
    "#             diff = target - num\n",
    "#             if diff in in_nums:\n",
    "#                 if diff != num or in_nums[num][0] > 1:\n",
    "#                     return [index, in_nums[diff][1]]\n"
   ]
  },
  {
   "cell_type": "markdown",
   "metadata": {},
   "source": [
    "# 40ms submission"
   ]
  },
  {
   "cell_type": "code",
   "execution_count": null,
   "metadata": {},
   "outputs": [],
   "source": [
    "class Solution:\n",
    "    def twoSum(self, nums: List[int], target: int) -> List[int]:\n",
    "        s={}\n",
    "        for i in range(len(nums)):\n",
    "            n=target-nums[i]\n",
    "            if n in s:\n",
    "                return [s[n],i]\n",
    "            s[nums[i]]=i"
   ]
  },
  {
   "cell_type": "markdown",
   "metadata": {},
   "source": [
    "### **사전 학습 방법!**\n",
    "\n",
    "1. 문제를 읽어보고 어떻게 접근할지 생각해본다.\n",
    "2. 1시간 동안 직접 문제를 풀어본다.\n",
    "3. 도저히 풀리지 않는다면, 풀이를 보고 공부를 한다.\n",
    "4. 직접 푼 코드 / 공부한 풀이를 정리한다."
   ]
  }
 ],
 "metadata": {
  "kernelspec": {
   "display_name": "Python 3",
   "language": "python",
   "name": "python3"
  },
  "language_info": {
   "codemirror_mode": {
    "name": "ipython",
    "version": 3
   },
   "file_extension": ".py",
   "mimetype": "text/x-python",
   "name": "python",
   "nbconvert_exporter": "python",
   "pygments_lexer": "ipython3",
   "version": "3.7.3"
  }
 },
 "nbformat": 4,
 "nbformat_minor": 2
}
