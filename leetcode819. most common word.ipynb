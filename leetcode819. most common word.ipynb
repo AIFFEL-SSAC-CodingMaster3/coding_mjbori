{
 "cells": [
  {
   "cell_type": "markdown",
   "metadata": {},
   "source": [
    "# Q819. Most common word\n",
    "\n",
    "Given a paragraph and a list of banned words, return the most frequent word that is not in the list of banned words.  It is guaranteed there is at least one word that isn't banned, and that the answer is unique.\n",
    "\n",
    "Words in the list of banned words are given in lowercase, and free of punctuation.  Words in the paragraph are not case sensitive.  The answer is in lowercase.\n",
    "\n",
    "> Input: \n",
    "paragraph = \"Bob hit a ball, the hit BALL flew far after it was hit.\"\n",
    "banned = [\"hit\"]\n",
    "\n",
    ">Output: \"ball\"\n",
    "\n",
    "Explanation: \n",
    "\"hit\" occurs 3 times, but it is a banned word.\n",
    "\"ball\" occurs twice (and no other word does), so it is the most frequent non-banned word in the paragraph. \n",
    "Note that words in the paragraph are not case sensitive,\n",
    "that punctuation is ignored (even if adjacent to words, such as \"ball,\"), \n",
    "and that \"hit\" isn't the answer even though it occurs more because it is banned.\n",
    "\n",
    " "
   ]
  },
  {
   "cell_type": "markdown",
   "metadata": {},
   "source": [
    "# 1차 시도"
   ]
  },
  {
   "cell_type": "code",
   "execution_count": null,
   "metadata": {},
   "outputs": [],
   "source": [
    "paragraph =\"Bob hit a ball, the hit BALL flew far after it was hit.\"\n",
    "banned = [\"hit\"]\n",
    "\n",
    "class Solution1:\n",
    "    def mostCommonWord1(self, paragraph: str, banned: List[str]) -> str:\n",
    "        import string\n",
    "        from collections import Counter\n",
    "\n",
    "        # paragraph 문장부호 삭제\n",
    "        # ' '*len(string.punctuation)으로 문장부호개수만큼 공백을 만들어서 문장부호와 매칭\n",
    "        # maketrans(A, B): A와 B의 각 문자를 1:1 매칭 / translate(딕셔너리): 대응되는 것으로 치환\n",
    "        paragraph_puncFree = paragraph.translate(str.maketrans(string.punctuation, ' '*len(string.punctuation))) #string\n",
    "        \n",
    "        # paragraph 소문자화\n",
    "        paragraph_lower = paragraph_puncFree.lower()   #string\n",
    "        \n",
    "        # paragraph를 string에서 list로 변환\n",
    "        paragraph_list = paragraph_lower.split()  #string -> list\n",
    "\n",
    "        # banned words 단어 삭제하기\n",
    "        word_list = [x for x in paragraph_list if x not in banned]\n",
    "                        \n",
    "        # Counter을 이용하여 word 횟수 세어서 most_common_list에 저장\n",
    "        count = Counter(word_list)\n",
    "        for key, value in count.most_common(1): \n",
    "            most_common_list = [key, value]\n",
    "        \n",
    "        # count를 이용하면가장 앞에 있는게 가장 많이 나온 것이므로 most_common_list의 첫번째를 return\n",
    "        return most_common_list[0]"
   ]
  },
  {
   "cell_type": "markdown",
   "metadata": {},
   "source": [
    "# 2차 시도"
   ]
  },
  {
   "cell_type": "code",
   "execution_count": null,
   "metadata": {},
   "outputs": [],
   "source": [
    "paragraph =\"Bob hit a ball, the hit BALL flew far after it was hit.\"\n",
    "banned = [\"hit\"]\n",
    "\n",
    "class Solution:\n",
    "    def mostCommonWord(self, paragraph: str, banned: List[str]) -> str:\n",
    "        import string\n",
    "        from collections import Counter\n",
    "\n",
    "        # Remove all the Punctuations\n",
    "        paragraph_puncFree = paragraph.translate(str.maketrans(string.punctuation, ' '*len(string.punctuation))) #string\n",
    "        \n",
    "        # Change paragraph and banned_words list to lower case\n",
    "        banned_lower=[x.lower() for x in banned]     #list\n",
    "        word_list=[x for x in paragraph_puncFree.lower().split() if x not in banned_lower]  #string\n",
    "                                      \n",
    "        # Counts word frequencies\n",
    "        count = Counter(word_list)\n",
    "        return count.most_common(1) [0][0]"
   ]
  },
  {
   "cell_type": "markdown",
   "metadata": {},
   "source": [
    "# 3차 시도 - 36ms"
   ]
  },
  {
   "cell_type": "code",
   "execution_count": null,
   "metadata": {},
   "outputs": [],
   "source": [
    "class Solution:\n",
    "    def mostCommonWord(self, paragraph: str, banned: List[str]) -> str:\n",
    "        import string\n",
    "        from collections import Counter\n",
    "\n",
    "        # banned word -> lower case \n",
    "        banned_lower=set([x.lower() for x in banned])\n",
    "        # paragraph 문자들을 한꺼번에 치환\n",
    "        # maketrans: 각 문자를 1:1로 맵핑\n",
    "        # paragraph -> punctuation-free string -> lower case -> list -> banned words removed\n",
    "        word_list = [x for x in paragraph.translate(str.maketrans(string.punctuation, ' '*len(string.punctuation))).lower().split() if x not in banned_lower]\n",
    "                                \n",
    "        # Counts word frequencies and return the most common word\n",
    "        return Counter(word_list).most_common(1)[0][0]"
   ]
  },
  {
   "cell_type": "markdown",
   "metadata": {},
   "source": [
    "# Solution "
   ]
  },
  {
   "cell_type": "code",
   "execution_count": null,
   "metadata": {},
   "outputs": [],
   "source": [
    "paragraph =\"Bob hit a ball, the hit BALL flew far after it was hit.\"\n",
    "banned = [\"hit\"]\n",
    "\n",
    "def mostCommonWord(self, paragraph, banned):\n",
    "    #1). replace the punctuations with spaces,\n",
    "    #      and put all letters in lower case\n",
    "    normalized_str = ''.join([c.lower() if c.isalnum() else ' ' for c in paragraph])\n",
    "\n",
    "    #2). split the string into words\n",
    "    words = normalized_str.split()\n",
    "\n",
    "    word_count = defaultdict(int)\n",
    "    banned_words = set(banned)\n",
    "\n",
    "    #3). count the appearance of each word, excluding the banned words\n",
    "    for word in words:\n",
    "        if word not in banned_words:\n",
    "            word_count[word] += 1\n",
    "\n",
    "    #4). return the word with the highest frequency\n",
    "    return max(word_count.items(), key=operator.itemgetter(1))[0]"
   ]
  }
 ],
 "metadata": {
  "kernelspec": {
   "display_name": "Python 3",
   "language": "python",
   "name": "python3"
  },
  "language_info": {
   "codemirror_mode": {
    "name": "ipython",
    "version": 3
   },
   "file_extension": ".py",
   "mimetype": "text/x-python",
   "name": "python",
   "nbconvert_exporter": "python",
   "pygments_lexer": "ipython3",
   "version": "3.7.9"
  }
 },
 "nbformat": 4,
 "nbformat_minor": 2
}
